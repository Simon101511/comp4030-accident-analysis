{
 "cells": [
  {
   "cell_type": "code",
   "id": "initial_id",
   "metadata": {
    "collapsed": true,
    "ExecuteTime": {
     "end_time": "2025-04-28T21:39:12.975079Z",
     "start_time": "2025-04-28T21:39:07.487327Z"
    }
   },
   "source": [
    "# 导入必要的Python库\n",
    "import pandas as pd\n",
    "import numpy as np\n",
    "from sklearn.preprocessing import LabelEncoder"
   ],
   "outputs": [],
   "execution_count": 1
  },
  {
   "metadata": {
    "ExecuteTime": {
     "end_time": "2025-04-28T21:39:33.614968Z",
     "start_time": "2025-04-28T21:39:32.172487Z"
    }
   },
   "cell_type": "code",
   "source": [
    "# 读取交通事故数据集\n",
    "df = pd.read_csv('dft-road-casualty-statistics-collision-2023.csv', low_memory=False)\n",
    "\n",
    "# 查看数据基本信息\n",
    "print(\"数据集基本信息：\")\n",
    "print(df.info())\n",
    "df.head()"
   ],
   "id": "6a65dfeb3e5ac1f2",
   "outputs": [
    {
     "name": "stdout",
     "output_type": "stream",
     "text": [
      "数据集基本信息：\n",
      "<class 'pandas.core.frame.DataFrame'>\n",
      "RangeIndex: 104258 entries, 0 to 104257\n",
      "Data columns (total 37 columns):\n",
      " #   Column                                       Non-Null Count   Dtype  \n",
      "---  ------                                       --------------   -----  \n",
      " 0   accident_index                               104258 non-null  object \n",
      " 1   accident_year                                104258 non-null  int64  \n",
      " 2   accident_reference                           104258 non-null  object \n",
      " 3   location_easting_osgr                        104246 non-null  float64\n",
      " 4   location_northing_osgr                       104246 non-null  float64\n",
      " 5   longitude                                    104246 non-null  float64\n",
      " 6   latitude                                     104246 non-null  float64\n",
      " 7   police_force                                 104258 non-null  int64  \n",
      " 8   accident_severity                            104258 non-null  int64  \n",
      " 9   number_of_vehicles                           104258 non-null  int64  \n",
      " 10  number_of_casualties                         104258 non-null  int64  \n",
      " 11  date                                         104258 non-null  object \n",
      " 12  day_of_week                                  104258 non-null  int64  \n",
      " 13  time                                         104258 non-null  object \n",
      " 14  local_authority_district                     104258 non-null  int64  \n",
      " 15  local_authority_ons_district                 104258 non-null  object \n",
      " 16  local_authority_highway                      104258 non-null  object \n",
      " 17  first_road_class                             104258 non-null  int64  \n",
      " 18  first_road_number                            104258 non-null  int64  \n",
      " 19  road_type                                    104258 non-null  int64  \n",
      " 20  speed_limit                                  104258 non-null  int64  \n",
      " 21  junction_detail                              104258 non-null  int64  \n",
      " 22  junction_control                             104258 non-null  int64  \n",
      " 23  second_road_class                            104258 non-null  int64  \n",
      " 24  second_road_number                           104258 non-null  int64  \n",
      " 25  pedestrian_crossing_human_control            104258 non-null  int64  \n",
      " 26  pedestrian_crossing_physical_facilities      104258 non-null  int64  \n",
      " 27  light_conditions                             104258 non-null  int64  \n",
      " 28  weather_conditions                           104258 non-null  int64  \n",
      " 29  road_surface_conditions                      104258 non-null  int64  \n",
      " 30  special_conditions_at_site                   104258 non-null  int64  \n",
      " 31  carriageway_hazards                          104258 non-null  int64  \n",
      " 32  urban_or_rural_area                          104258 non-null  int64  \n",
      " 33  did_police_officer_attend_scene_of_accident  104258 non-null  int64  \n",
      " 34  trunk_road_flag                              104258 non-null  int64  \n",
      " 35  lsoa_of_accident_location                    104258 non-null  object \n",
      " 36  enhanced_severity_collision                  104258 non-null  int64  \n",
      "dtypes: float64(4), int64(26), object(7)\n",
      "memory usage: 29.4+ MB\n",
      "None\n"
     ]
    },
    {
     "data": {
      "text/plain": [
       "  accident_index  accident_year accident_reference  location_easting_osgr  \\\n",
       "0  2023010419171           2023          010419171               525060.0   \n",
       "1  2023010419183           2023          010419183               535463.0   \n",
       "2  2023010419189           2023          010419189               508702.0   \n",
       "3  2023010419191           2023          010419191               520341.0   \n",
       "4  2023010419192           2023          010419192               527255.0   \n",
       "\n",
       "   location_northing_osgr  longitude   latitude  police_force  \\\n",
       "0                170416.0  -0.202878  51.418974             1   \n",
       "1                198745.0  -0.042464  51.671155             1   \n",
       "2                177696.0  -0.435789  51.487777             1   \n",
       "3                190175.0  -0.263972  51.597575             1   \n",
       "4                176963.0  -0.168976  51.477324             1   \n",
       "\n",
       "   accident_severity  number_of_vehicles  ...  light_conditions  \\\n",
       "0                  3                   1  ...                 4   \n",
       "1                  3                   3  ...                 4   \n",
       "2                  3                   2  ...                 4   \n",
       "3                  3                   2  ...                 4   \n",
       "4                  3                   2  ...                 4   \n",
       "\n",
       "  weather_conditions  road_surface_conditions special_conditions_at_site  \\\n",
       "0                  8                        2                          0   \n",
       "1                  1                        1                          0   \n",
       "2                  1                        1                          0   \n",
       "3                  9                        1                          0   \n",
       "4                  1                        1                          0   \n",
       "\n",
       "   carriageway_hazards urban_or_rural_area  \\\n",
       "0                    0                   1   \n",
       "1                    0                   1   \n",
       "2                    0                   1   \n",
       "3                    0                   1   \n",
       "4                    0                   1   \n",
       "\n",
       "  did_police_officer_attend_scene_of_accident  trunk_road_flag  \\\n",
       "0                                           1                2   \n",
       "1                                           1                2   \n",
       "2                                           1                2   \n",
       "3                                           1                2   \n",
       "4                                           1                2   \n",
       "\n",
       "   lsoa_of_accident_location  enhanced_severity_collision  \n",
       "0                  E01003383                           -1  \n",
       "1                  E01001547                           -1  \n",
       "2                  E01002448                           -1  \n",
       "3                  E01000129                           -1  \n",
       "4                  E01004583                           -1  \n",
       "\n",
       "[5 rows x 37 columns]"
      ],
      "text/html": [
       "<div>\n",
       "<style scoped>\n",
       "    .dataframe tbody tr th:only-of-type {\n",
       "        vertical-align: middle;\n",
       "    }\n",
       "\n",
       "    .dataframe tbody tr th {\n",
       "        vertical-align: top;\n",
       "    }\n",
       "\n",
       "    .dataframe thead th {\n",
       "        text-align: right;\n",
       "    }\n",
       "</style>\n",
       "<table border=\"1\" class=\"dataframe\">\n",
       "  <thead>\n",
       "    <tr style=\"text-align: right;\">\n",
       "      <th></th>\n",
       "      <th>accident_index</th>\n",
       "      <th>accident_year</th>\n",
       "      <th>accident_reference</th>\n",
       "      <th>location_easting_osgr</th>\n",
       "      <th>location_northing_osgr</th>\n",
       "      <th>longitude</th>\n",
       "      <th>latitude</th>\n",
       "      <th>police_force</th>\n",
       "      <th>accident_severity</th>\n",
       "      <th>number_of_vehicles</th>\n",
       "      <th>...</th>\n",
       "      <th>light_conditions</th>\n",
       "      <th>weather_conditions</th>\n",
       "      <th>road_surface_conditions</th>\n",
       "      <th>special_conditions_at_site</th>\n",
       "      <th>carriageway_hazards</th>\n",
       "      <th>urban_or_rural_area</th>\n",
       "      <th>did_police_officer_attend_scene_of_accident</th>\n",
       "      <th>trunk_road_flag</th>\n",
       "      <th>lsoa_of_accident_location</th>\n",
       "      <th>enhanced_severity_collision</th>\n",
       "    </tr>\n",
       "  </thead>\n",
       "  <tbody>\n",
       "    <tr>\n",
       "      <th>0</th>\n",
       "      <td>2023010419171</td>\n",
       "      <td>2023</td>\n",
       "      <td>010419171</td>\n",
       "      <td>525060.0</td>\n",
       "      <td>170416.0</td>\n",
       "      <td>-0.202878</td>\n",
       "      <td>51.418974</td>\n",
       "      <td>1</td>\n",
       "      <td>3</td>\n",
       "      <td>1</td>\n",
       "      <td>...</td>\n",
       "      <td>4</td>\n",
       "      <td>8</td>\n",
       "      <td>2</td>\n",
       "      <td>0</td>\n",
       "      <td>0</td>\n",
       "      <td>1</td>\n",
       "      <td>1</td>\n",
       "      <td>2</td>\n",
       "      <td>E01003383</td>\n",
       "      <td>-1</td>\n",
       "    </tr>\n",
       "    <tr>\n",
       "      <th>1</th>\n",
       "      <td>2023010419183</td>\n",
       "      <td>2023</td>\n",
       "      <td>010419183</td>\n",
       "      <td>535463.0</td>\n",
       "      <td>198745.0</td>\n",
       "      <td>-0.042464</td>\n",
       "      <td>51.671155</td>\n",
       "      <td>1</td>\n",
       "      <td>3</td>\n",
       "      <td>3</td>\n",
       "      <td>...</td>\n",
       "      <td>4</td>\n",
       "      <td>1</td>\n",
       "      <td>1</td>\n",
       "      <td>0</td>\n",
       "      <td>0</td>\n",
       "      <td>1</td>\n",
       "      <td>1</td>\n",
       "      <td>2</td>\n",
       "      <td>E01001547</td>\n",
       "      <td>-1</td>\n",
       "    </tr>\n",
       "    <tr>\n",
       "      <th>2</th>\n",
       "      <td>2023010419189</td>\n",
       "      <td>2023</td>\n",
       "      <td>010419189</td>\n",
       "      <td>508702.0</td>\n",
       "      <td>177696.0</td>\n",
       "      <td>-0.435789</td>\n",
       "      <td>51.487777</td>\n",
       "      <td>1</td>\n",
       "      <td>3</td>\n",
       "      <td>2</td>\n",
       "      <td>...</td>\n",
       "      <td>4</td>\n",
       "      <td>1</td>\n",
       "      <td>1</td>\n",
       "      <td>0</td>\n",
       "      <td>0</td>\n",
       "      <td>1</td>\n",
       "      <td>1</td>\n",
       "      <td>2</td>\n",
       "      <td>E01002448</td>\n",
       "      <td>-1</td>\n",
       "    </tr>\n",
       "    <tr>\n",
       "      <th>3</th>\n",
       "      <td>2023010419191</td>\n",
       "      <td>2023</td>\n",
       "      <td>010419191</td>\n",
       "      <td>520341.0</td>\n",
       "      <td>190175.0</td>\n",
       "      <td>-0.263972</td>\n",
       "      <td>51.597575</td>\n",
       "      <td>1</td>\n",
       "      <td>3</td>\n",
       "      <td>2</td>\n",
       "      <td>...</td>\n",
       "      <td>4</td>\n",
       "      <td>9</td>\n",
       "      <td>1</td>\n",
       "      <td>0</td>\n",
       "      <td>0</td>\n",
       "      <td>1</td>\n",
       "      <td>1</td>\n",
       "      <td>2</td>\n",
       "      <td>E01000129</td>\n",
       "      <td>-1</td>\n",
       "    </tr>\n",
       "    <tr>\n",
       "      <th>4</th>\n",
       "      <td>2023010419192</td>\n",
       "      <td>2023</td>\n",
       "      <td>010419192</td>\n",
       "      <td>527255.0</td>\n",
       "      <td>176963.0</td>\n",
       "      <td>-0.168976</td>\n",
       "      <td>51.477324</td>\n",
       "      <td>1</td>\n",
       "      <td>3</td>\n",
       "      <td>2</td>\n",
       "      <td>...</td>\n",
       "      <td>4</td>\n",
       "      <td>1</td>\n",
       "      <td>1</td>\n",
       "      <td>0</td>\n",
       "      <td>0</td>\n",
       "      <td>1</td>\n",
       "      <td>1</td>\n",
       "      <td>2</td>\n",
       "      <td>E01004583</td>\n",
       "      <td>-1</td>\n",
       "    </tr>\n",
       "  </tbody>\n",
       "</table>\n",
       "<p>5 rows × 37 columns</p>\n",
       "</div>"
      ]
     },
     "execution_count": 2,
     "metadata": {},
     "output_type": "execute_result"
    }
   ],
   "execution_count": 2
  },
  {
   "metadata": {
    "ExecuteTime": {
     "end_time": "2025-04-28T21:39:43.046569Z",
     "start_time": "2025-04-28T21:39:43.006813Z"
    }
   },
   "cell_type": "code",
   "source": [
    "# 选取与预测相关的重要字段\n",
    "selected_cols = [\n",
    "    'accident_severity', 'number_of_vehicles', 'number_of_casualties',\n",
    "    'date', 'time', 'day_of_week', 'road_type', 'speed_limit',\n",
    "    'light_conditions', 'weather_conditions', 'road_surface_conditions',\n",
    "    'urban_or_rural_area'\n",
    "]\n",
    "\n",
    "df_selected = df[selected_cols].copy()\n",
    "\n",
    "print(\"选取后的字段：\")\n",
    "print(df_selected.head())\n"
   ],
   "id": "1583cf62089c5d3f",
   "outputs": [
    {
     "name": "stdout",
     "output_type": "stream",
     "text": [
      "选取后的字段：\n",
      "   accident_severity  number_of_vehicles  number_of_casualties        date  \\\n",
      "0                  3                   1                     1  01/01/2023   \n",
      "1                  3                   3                     2  01/01/2023   \n",
      "2                  3                   2                     1  01/01/2023   \n",
      "3                  3                   2                     1  01/01/2023   \n",
      "4                  3                   2                     1  01/01/2023   \n",
      "\n",
      "    time  day_of_week  road_type  speed_limit  light_conditions  \\\n",
      "0  01:24            1          2           20                 4   \n",
      "1  02:25            1          6           30                 4   \n",
      "2  03:50            1          1           30                 4   \n",
      "3  02:13            1          6           30                 4   \n",
      "4  01:42            1          6           30                 4   \n",
      "\n",
      "   weather_conditions  road_surface_conditions  urban_or_rural_area  \n",
      "0                   8                        2                    1  \n",
      "1                   1                        1                    1  \n",
      "2                   1                        1                    1  \n",
      "3                   9                        1                    1  \n",
      "4                   1                        1                    1  \n"
     ]
    }
   ],
   "execution_count": 3
  },
  {
   "metadata": {
    "ExecuteTime": {
     "end_time": "2025-04-28T21:39:49.295264Z",
     "start_time": "2025-04-28T21:39:49.272197Z"
    }
   },
   "cell_type": "code",
   "source": [
    "# 针对每一列进行缺失值处理\n",
    "# 数值型字段用中位数填充，类别型字段用众数填充\n",
    "for col in df_selected.columns:\n",
    "    if df_selected[col].isnull().sum() > 0:\n",
    "        if df_selected[col].dtype in ['float64', 'int64']:\n",
    "            df_selected[col].fillna(df_selected[col].median(), inplace=True)\n",
    "        else:\n",
    "            df_selected[col].fillna(df_selected[col].mode()[0], inplace=True)\n",
    "\n",
    "print(\"缺失值处理完成。\")\n"
   ],
   "id": "f8aba62ee426a4b8",
   "outputs": [
    {
     "name": "stdout",
     "output_type": "stream",
     "text": [
      "缺失值处理完成。\n"
     ]
    }
   ],
   "execution_count": 4
  },
  {
   "metadata": {
    "ExecuteTime": {
     "end_time": "2025-04-28T21:39:52.393372Z",
     "start_time": "2025-04-28T21:39:52.114533Z"
    }
   },
   "cell_type": "code",
   "source": [
    "# 处理 date 列，提取 month\n",
    "df_selected['date'] = pd.to_datetime(df_selected['date'], format='%d/%m/%Y', errors='coerce')\n",
    "df_selected['month'] = df_selected['date'].dt.month\n",
    "\n",
    "# 处理 time 列，提取 hour\n",
    "df_selected['hour'] = pd.to_datetime(df_selected['time'], format='%H:%M', errors='coerce').dt.hour\n",
    "\n",
    "# 删除原来的 date 和 time 列\n",
    "df_selected.drop(['date', 'time'], axis=1, inplace=True)\n",
    "\n",
    "print(\"时间特征提取完成！\")\n"
   ],
   "id": "c29a85e3c36f7791",
   "outputs": [
    {
     "name": "stdout",
     "output_type": "stream",
     "text": [
      "时间特征提取完成！\n"
     ]
    }
   ],
   "execution_count": 5
  },
  {
   "metadata": {
    "ExecuteTime": {
     "end_time": "2025-04-28T21:39:54.969488Z",
     "start_time": "2025-04-28T21:39:54.926910Z"
    }
   },
   "cell_type": "code",
   "source": [
    "from sklearn.preprocessing import LabelEncoder\n",
    "\n",
    "categorical_features = ['road_type', 'light_conditions', 'weather_conditions', 'road_surface_conditions', 'urban_or_rural_area']\n",
    "encoder = LabelEncoder()\n",
    "for col in categorical_features:\n",
    "    df_selected[col] = encoder.fit_transform(df_selected[col])\n",
    "\n",
    "print(\"类别特征编码完成！\")\n"
   ],
   "id": "288ec25ff2d367b0",
   "outputs": [
    {
     "name": "stdout",
     "output_type": "stream",
     "text": [
      "类别特征编码完成！\n"
     ]
    }
   ],
   "execution_count": 6
  },
  {
   "metadata": {
    "ExecuteTime": {
     "end_time": "2025-04-28T21:40:11.132451Z",
     "start_time": "2025-04-28T21:40:07.064752Z"
    }
   },
   "cell_type": "code",
   "source": [
    "from sklearn.model_selection import train_test_split\n",
    "from sklearn.tree import DecisionTreeClassifier\n",
    "from sklearn.metrics import classification_report, confusion_matrix, accuracy_score\n",
    "import matplotlib.pyplot as plt\n",
    "import seaborn as sns\n"
   ],
   "id": "7847fc52ccf320e7",
   "outputs": [],
   "execution_count": 7
  },
  {
   "metadata": {
    "ExecuteTime": {
     "end_time": "2025-04-28T21:40:28.644397Z",
     "start_time": "2025-04-28T21:40:28.633258Z"
    }
   },
   "cell_type": "code",
   "source": [
    "# 特征和目标分开\n",
    "X = df_selected.drop('accident_severity', axis=1)  # 输入特征\n",
    "y = df_selected['accident_severity']               # 目标变量\n"
   ],
   "id": "68445b1cae4d0656",
   "outputs": [],
   "execution_count": 8
  },
  {
   "metadata": {
    "ExecuteTime": {
     "end_time": "2025-04-28T21:40:40.141733Z",
     "start_time": "2025-04-28T21:40:40.107695Z"
    }
   },
   "cell_type": "code",
   "source": [
    "# 切分数据集（70%训练，30%测试）\n",
    "X_train, X_test, y_train, y_test = train_test_split(X, y, test_size=0.3, random_state=42)\n",
    "\n",
    "print(\"训练集大小：\", X_train.shape)\n",
    "print(\"测试集大小：\", X_test.shape)\n"
   ],
   "id": "897d93cc6cfedb05",
   "outputs": [
    {
     "name": "stdout",
     "output_type": "stream",
     "text": [
      "训练集大小： (72980, 11)\n",
      "测试集大小： (31278, 11)\n"
     ]
    }
   ],
   "execution_count": 9
  },
  {
   "metadata": {
    "ExecuteTime": {
     "end_time": "2025-04-28T21:41:00.525972Z",
     "start_time": "2025-04-28T21:40:59.992540Z"
    }
   },
   "cell_type": "code",
   "source": [
    "# 初始化并训练决策树\n",
    "model = DecisionTreeClassifier(random_state=42)\n",
    "model.fit(X_train, y_train)\n",
    "\n",
    "print(\"决策树模型训练完成！\")\n"
   ],
   "id": "7c39f37a29205e1b",
   "outputs": [
    {
     "name": "stdout",
     "output_type": "stream",
     "text": [
      "决策树模型训练完成！\n"
     ]
    }
   ],
   "execution_count": 10
  },
  {
   "metadata": {
    "ExecuteTime": {
     "end_time": "2025-04-28T21:41:12.346252Z",
     "start_time": "2025-04-28T21:41:12.257662Z"
    }
   },
   "cell_type": "code",
   "source": [
    "# 在测试集上进行预测\n",
    "y_pred = model.predict(X_test)\n",
    "\n",
    "# 评估指标输出\n",
    "print(\"模型准确率 (Accuracy):\", accuracy_score(y_test, y_pred))\n",
    "print(\"\\n分类详细报告 (Classification Report):\\n\", classification_report(y_test, y_pred))\n"
   ],
   "id": "c03dac247b392a10",
   "outputs": [
    {
     "name": "stdout",
     "output_type": "stream",
     "text": [
      "模型准确率 (Accuracy): 0.6409297269646397\n",
      "\n",
      "分类详细报告 (Classification Report):\n",
      "               precision    recall  f1-score   support\n",
      "\n",
      "           1       0.04      0.05      0.04       454\n",
      "           2       0.27      0.28      0.27      7198\n",
      "           3       0.77      0.76      0.77     23626\n",
      "\n",
      "    accuracy                           0.64     31278\n",
      "   macro avg       0.36      0.36      0.36     31278\n",
      "weighted avg       0.65      0.64      0.64     31278\n",
      "\n"
     ]
    }
   ],
   "execution_count": 11
  },
  {
   "metadata": {
    "ExecuteTime": {
     "end_time": "2025-04-28T21:42:36.526174Z",
     "start_time": "2025-04-28T21:42:35.312799Z"
    }
   },
   "cell_type": "code",
   "source": [
    "# 绘制混淆矩阵\n",
    "cm = confusion_matrix(y_test, y_pred)\n",
    "\n",
    "plt.figure(figsize=(6,5))\n",
    "sns.heatmap(cm, annot=True, fmt='d', cmap='Blues', xticklabels=[1,2,3], yticklabels=[1,2,3])\n",
    "plt.xlabel('Predicted Severity')\n",
    "plt.ylabel('Actual Severity')\n",
    "plt.title('Confusion Matrix - Decision Tree')\n",
    "plt.show()\n"
   ],
   "id": "edf3fd06847a7106",
   "outputs": [
    {
     "data": {
      "text/plain": [
       "<Figure size 600x500 with 2 Axes>"
      ],
      "image/png": "[encoded data removed]"
     },
     "metadata": {},
     "output_type": "display_data"
    }
   ],
   "execution_count": 12
  },
  {
   "metadata": {
    "ExecuteTime": {
     "end_time": "2025-04-28T21:44:01.218073Z",
     "start_time": "2025-04-28T21:44:00.643421Z"
    }
   },
   "cell_type": "code",
   "source": "from sklearn.ensemble import RandomForestClassifier\n",
   "id": "86c6ba3685c840b2",
   "outputs": [],
   "execution_count": 13
  },
  {
   "metadata": {
    "ExecuteTime": {
     "end_time": "2025-04-28T21:44:22.304323Z",
     "start_time": "2025-04-28T21:44:13.524909Z"
    }
   },
   "cell_type": "code",
   "source": [
    "# 初始化Random Forest（可以先用默认参数）\n",
    "rf_model = RandomForestClassifier(random_state=42)\n",
    "rf_model.fit(X_train, y_train)\n",
    "\n",
    "print(\"Random Forest模型训练完成！\")\n"
   ],
   "id": "379fd84463895516",
   "outputs": [
    {
     "name": "stdout",
     "output_type": "stream",
     "text": [
      "Random Forest模型训练完成！\n"
     ]
    }
   ],
   "execution_count": 14
  },
  {
   "metadata": {
    "ExecuteTime": {
     "end_time": "2025-04-28T21:44:38.827350Z",
     "start_time": "2025-04-28T21:44:37.239259Z"
    }
   },
   "cell_type": "code",
   "source": [
    "# 预测\n",
    "y_pred_rf = rf_model.predict(X_test)\n",
    "\n",
    "# 评估\n",
    "print(\"Random Forest模型准确率 (Accuracy):\", accuracy_score(y_test, y_pred_rf))\n",
    "print(\"\\nRandom Forest分类详细报告 (Classification Report):\\n\", classification_report(y_test, y_pred_rf))\n"
   ],
   "id": "8ebea3dd1d021d6e",
   "outputs": [
    {
     "name": "stdout",
     "output_type": "stream",
     "text": [
      "Random Forest模型准确率 (Accuracy): 0.7155508664236844\n",
      "\n",
      "Random Forest分类详细报告 (Classification Report):\n",
      "               precision    recall  f1-score   support\n",
      "\n",
      "           1       0.06      0.01      0.02       454\n",
      "           2       0.31      0.14      0.19      7198\n",
      "           3       0.77      0.90      0.83     23626\n",
      "\n",
      "    accuracy                           0.72     31278\n",
      "   macro avg       0.38      0.35      0.35     31278\n",
      "weighted avg       0.65      0.72      0.67     31278\n",
      "\n"
     ]
    }
   ],
   "execution_count": 15
  },
  {
   "metadata": {
    "ExecuteTime": {
     "end_time": "2025-04-28T21:45:02.048472Z",
     "start_time": "2025-04-28T21:45:01.803418Z"
    }
   },
   "cell_type": "code",
   "source": [
    "# 混淆矩阵\n",
    "cm_rf = confusion_matrix(y_test, y_pred_rf)\n",
    "\n",
    "plt.figure(figsize=(6,5))\n",
    "sns.heatmap(cm_rf, annot=True, fmt='d', cmap='Greens', xticklabels=[1,2,3], yticklabels=[1,2,3])\n",
    "plt.xlabel('Predicted Severity')\n",
    "plt.ylabel('Actual Severity')\n",
    "plt.title('Confusion Matrix - Random Forest')\n",
    "plt.show()\n"
   ],
   "id": "e83ea7f6127f0ba7",
   "outputs": [
    {
     "data": {
      "text/plain": [
       "<Figure size 600x500 with 2 Axes>"
      ],
      "image/png": "[encoded data removed]"
     },
     "metadata": {},
     "output_type": "display_data"
    }
   ],
   "execution_count": 16
  }
 ],
 "metadata": {
  "kernelspec": {
   "display_name": "Python 3",
   "language": "python",
   "name": "python3"
  },
  "language_info": {
   "codemirror_mode": {
    "name": "ipython",
    "version": 2
   },
   "file_extension": ".py",
   "mimetype": "text/x-python",
   "name": "python",
   "nbconvert_exporter": "python",
   "pygments_lexer": "ipython2",
   "version": "2.7.6"
  }
 },
 "nbformat": 4,
 "nbformat_minor": 5
}
