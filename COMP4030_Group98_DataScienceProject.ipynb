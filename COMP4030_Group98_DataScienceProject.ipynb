{
 "cells": [
  {
   "cell_type": "code",
   "execution_count": 37,
   "id": "initial_id",
   "metadata": {
    "ExecuteTime": {
     "end_time": "2025-04-28T21:39:12.975079Z",
     "start_time": "2025-04-28T21:39:07.487327Z"
    },
    "collapsed": true
   },
   "outputs": [],
   "source": [
    "# Import necessary Python libraries\n",
    "# 导入必要的Python库\n",
    "import pandas as pd\n",
    "import numpy as np\n",
    "from sklearn.preprocessing import LabelEncoder\n",
    "import matplotlib.pyplot as plt\n",
    "import seaborn as sns"
   ]
  },
  {
   "cell_type": "code",
   "execution_count": 38,
   "id": "6a65dfeb3e5ac1f2",
   "metadata": {
    "ExecuteTime": {
     "end_time": "2025-04-28T21:39:33.614968Z",
     "start_time": "2025-04-28T21:39:32.172487Z"
    }
   },
   "outputs": [
    {
     "name": "stdout",
     "output_type": "stream",
     "text": [
      "Dataset Information / 数据集信息:\n",
      "<class 'pandas.core.frame.DataFrame'>\n",
      "RangeIndex: 104258 entries, 0 to 104257\n",
      "Data columns (total 37 columns):\n",
      " #   Column                                       Non-Null Count   Dtype  \n",
      "---  ------                                       --------------   -----  \n",
      " 0   accident_index                               104258 non-null  object \n",
      " 1   accident_year                                104258 non-null  int64  \n",
      " 2   accident_reference                           104258 non-null  object \n",
      " 3   location_easting_osgr                        104246 non-null  float64\n",
      " 4   location_northing_osgr                       104246 non-null  float64\n",
      " 5   longitude                                    104246 non-null  float64\n",
      " 6   latitude                                     104246 non-null  float64\n",
      " 7   police_force                                 104258 non-null  int64  \n",
      " 8   accident_severity                            104258 non-null  int64  \n",
      " 9   number_of_vehicles                           104258 non-null  int64  \n",
      " 10  number_of_casualties                         104258 non-null  int64  \n",
      " 11  date                                         104258 non-null  object \n",
      " 12  day_of_week                                  104258 non-null  int64  \n",
      " 13  time                                         104258 non-null  object \n",
      " 14  local_authority_district                     104258 non-null  int64  \n",
      " 15  local_authority_ons_district                 104258 non-null  object \n",
      " 16  local_authority_highway                      104258 non-null  object \n",
      " 17  first_road_class                             104258 non-null  int64  \n",
      " 18  first_road_number                            104258 non-null  int64  \n",
      " 19  road_type                                    104258 non-null  int64  \n",
      " 20  speed_limit                                  104258 non-null  int64  \n",
      " 21  junction_detail                              104258 non-null  int64  \n",
      " 22  junction_control                             104258 non-null  int64  \n",
      " 23  second_road_class                            104258 non-null  int64  \n",
      " 24  second_road_number                           104258 non-null  int64  \n",
      " 25  pedestrian_crossing_human_control            104258 non-null  int64  \n",
      " 26  pedestrian_crossing_physical_facilities      104258 non-null  int64  \n",
      " 27  light_conditions                             104258 non-null  int64  \n",
      " 28  weather_conditions                           104258 non-null  int64  \n",
      " 29  road_surface_conditions                      104258 non-null  int64  \n",
      " 30  special_conditions_at_site                   104258 non-null  int64  \n",
      " 31  carriageway_hazards                          104258 non-null  int64  \n",
      " 32  urban_or_rural_area                          104258 non-null  int64  \n",
      " 33  did_police_officer_attend_scene_of_accident  104258 non-null  int64  \n",
      " 34  trunk_road_flag                              104258 non-null  int64  \n",
      " 35  lsoa_of_accident_location                    104258 non-null  object \n",
      " 36  enhanced_severity_collision                  104258 non-null  int64  \n",
      "dtypes: float64(4), int64(26), object(7)\n",
      "memory usage: 29.4+ MB\n",
      "None\n"
     ]
    },
    {
     "data": {
      "text/html": [
       "<div>\n",
       "<style scoped>\n",
       "    .dataframe tbody tr th:only-of-type {\n",
       "        vertical-align: middle;\n",
       "    }\n",
       "\n",
       "    .dataframe tbody tr th {\n",
       "        vertical-align: top;\n",
       "    }\n",
       "\n",
       "    .dataframe thead th {\n",
       "        text-align: right;\n",
       "    }\n",
       "</style>\n",
       "<table border=\"1\" class=\"dataframe\">\n",
       "  <thead>\n",
       "    <tr style=\"text-align: right;\">\n",
       "      <th></th>\n",
       "      <th>accident_index</th>\n",
       "      <th>accident_year</th>\n",
       "      <th>accident_reference</th>\n",
       "      <th>location_easting_osgr</th>\n",
       "      <th>location_northing_osgr</th>\n",
       "      <th>longitude</th>\n",
       "      <th>latitude</th>\n",
       "      <th>police_force</th>\n",
       "      <th>accident_severity</th>\n",
       "      <th>number_of_vehicles</th>\n",
       "      <th>...</th>\n",
       "      <th>light_conditions</th>\n",
       "      <th>weather_conditions</th>\n",
       "      <th>road_surface_conditions</th>\n",
       "      <th>special_conditions_at_site</th>\n",
       "      <th>carriageway_hazards</th>\n",
       "      <th>urban_or_rural_area</th>\n",
       "      <th>did_police_officer_attend_scene_of_accident</th>\n",
       "      <th>trunk_road_flag</th>\n",
       "      <th>lsoa_of_accident_location</th>\n",
       "      <th>enhanced_severity_collision</th>\n",
       "    </tr>\n",
       "  </thead>\n",
       "  <tbody>\n",
       "    <tr>\n",
       "      <th>0</th>\n",
       "      <td>2023010419171</td>\n",
       "      <td>2023</td>\n",
       "      <td>010419171</td>\n",
       "      <td>525060.0</td>\n",
       "      <td>170416.0</td>\n",
       "      <td>-0.202878</td>\n",
       "      <td>51.418974</td>\n",
       "      <td>1</td>\n",
       "      <td>3</td>\n",
       "      <td>1</td>\n",
       "      <td>...</td>\n",
       "      <td>4</td>\n",
       "      <td>8</td>\n",
       "      <td>2</td>\n",
       "      <td>0</td>\n",
       "      <td>0</td>\n",
       "      <td>1</td>\n",
       "      <td>1</td>\n",
       "      <td>2</td>\n",
       "      <td>E01003383</td>\n",
       "      <td>-1</td>\n",
       "    </tr>\n",
       "    <tr>\n",
       "      <th>1</th>\n",
       "      <td>2023010419183</td>\n",
       "      <td>2023</td>\n",
       "      <td>010419183</td>\n",
       "      <td>535463.0</td>\n",
       "      <td>198745.0</td>\n",
       "      <td>-0.042464</td>\n",
       "      <td>51.671155</td>\n",
       "      <td>1</td>\n",
       "      <td>3</td>\n",
       "      <td>3</td>\n",
       "      <td>...</td>\n",
       "      <td>4</td>\n",
       "      <td>1</td>\n",
       "      <td>1</td>\n",
       "      <td>0</td>\n",
       "      <td>0</td>\n",
       "      <td>1</td>\n",
       "      <td>1</td>\n",
       "      <td>2</td>\n",
       "      <td>E01001547</td>\n",
       "      <td>-1</td>\n",
       "    </tr>\n",
       "    <tr>\n",
       "      <th>2</th>\n",
       "      <td>2023010419189</td>\n",
       "      <td>2023</td>\n",
       "      <td>010419189</td>\n",
       "      <td>508702.0</td>\n",
       "      <td>177696.0</td>\n",
       "      <td>-0.435789</td>\n",
       "      <td>51.487777</td>\n",
       "      <td>1</td>\n",
       "      <td>3</td>\n",
       "      <td>2</td>\n",
       "      <td>...</td>\n",
       "      <td>4</td>\n",
       "      <td>1</td>\n",
       "      <td>1</td>\n",
       "      <td>0</td>\n",
       "      <td>0</td>\n",
       "      <td>1</td>\n",
       "      <td>1</td>\n",
       "      <td>2</td>\n",
       "      <td>E01002448</td>\n",
       "      <td>-1</td>\n",
       "    </tr>\n",
       "    <tr>\n",
       "      <th>3</th>\n",
       "      <td>2023010419191</td>\n",
       "      <td>2023</td>\n",
       "      <td>010419191</td>\n",
       "      <td>520341.0</td>\n",
       "      <td>190175.0</td>\n",
       "      <td>-0.263972</td>\n",
       "      <td>51.597575</td>\n",
       "      <td>1</td>\n",
       "      <td>3</td>\n",
       "      <td>2</td>\n",
       "      <td>...</td>\n",
       "      <td>4</td>\n",
       "      <td>9</td>\n",
       "      <td>1</td>\n",
       "      <td>0</td>\n",
       "      <td>0</td>\n",
       "      <td>1</td>\n",
       "      <td>1</td>\n",
       "      <td>2</td>\n",
       "      <td>E01000129</td>\n",
       "      <td>-1</td>\n",
       "    </tr>\n",
       "    <tr>\n",
       "      <th>4</th>\n",
       "      <td>2023010419192</td>\n",
       "      <td>2023</td>\n",
       "      <td>010419192</td>\n",
       "      <td>527255.0</td>\n",
       "      <td>176963.0</td>\n",
       "      <td>-0.168976</td>\n",
       "      <td>51.477324</td>\n",
       "      <td>1</td>\n",
       "      <td>3</td>\n",
       "      <td>2</td>\n",
       "      <td>...</td>\n",
       "      <td>4</td>\n",
       "      <td>1</td>\n",
       "      <td>1</td>\n",
       "      <td>0</td>\n",
       "      <td>0</td>\n",
       "      <td>1</td>\n",
       "      <td>1</td>\n",
       "      <td>2</td>\n",
       "      <td>E01004583</td>\n",
       "      <td>-1</td>\n",
       "    </tr>\n",
       "  </tbody>\n",
       "</table>\n",
       "<p>5 rows × 37 columns</p>\n",
       "</div>"
      ],
      "text/plain": [
       "  accident_index  accident_year accident_reference  location_easting_osgr  \\\n",
       "0  2023010419171           2023          010419171               525060.0   \n",
       "1  2023010419183           2023          010419183               535463.0   \n",
       "2  2023010419189           2023          010419189               508702.0   \n",
       "3  2023010419191           2023          010419191               520341.0   \n",
       "4  2023010419192           2023          010419192               527255.0   \n",
       "\n",
       "   location_northing_osgr  longitude   latitude  police_force  \\\n",
       "0                170416.0  -0.202878  51.418974             1   \n",
       "1                198745.0  -0.042464  51.671155             1   \n",
       "2                177696.0  -0.435789  51.487777             1   \n",
       "3                190175.0  -0.263972  51.597575             1   \n",
       "4                176963.0  -0.168976  51.477324             1   \n",
       "\n",
       "   accident_severity  number_of_vehicles  ...  light_conditions  \\\n",
       "0                  3                   1  ...                 4   \n",
       "1                  3                   3  ...                 4   \n",
       "2                  3                   2  ...                 4   \n",
       "3                  3                   2  ...                 4   \n",
       "4                  3                   2  ...                 4   \n",
       "\n",
       "  weather_conditions  road_surface_conditions special_conditions_at_site  \\\n",
       "0                  8                        2                          0   \n",
       "1                  1                        1                          0   \n",
       "2                  1                        1                          0   \n",
       "3                  9                        1                          0   \n",
       "4                  1                        1                          0   \n",
       "\n",
       "   carriageway_hazards urban_or_rural_area  \\\n",
       "0                    0                   1   \n",
       "1                    0                   1   \n",
       "2                    0                   1   \n",
       "3                    0                   1   \n",
       "4                    0                   1   \n",
       "\n",
       "  did_police_officer_attend_scene_of_accident  trunk_road_flag  \\\n",
       "0                                           1                2   \n",
       "1                                           1                2   \n",
       "2                                           1                2   \n",
       "3                                           1                2   \n",
       "4                                           1                2   \n",
       "\n",
       "   lsoa_of_accident_location  enhanced_severity_collision  \n",
       "0                  E01003383                           -1  \n",
       "1                  E01001547                           -1  \n",
       "2                  E01002448                           -1  \n",
       "3                  E01000129                           -1  \n",
       "4                  E01004583                           -1  \n",
       "\n",
       "[5 rows x 37 columns]"
      ]
     },
     "execution_count": 38,
     "metadata": {},
     "output_type": "execute_result"
    }
   ],
   "source": [
    "# Read the traffic accident dataset\n",
    "# 读取交通事故数据集\n",
    "df = pd.read_csv('dft-road-casualty-statistics-collision-2023.csv', low_memory=False)\n",
    "\n",
    "# Display basic information about the dataset\n",
    "# 显示数据集的基本信息\n",
    "print(\"Dataset Information / 数据集信息:\")\n",
    "print(df.info())\n",
    "df.head()"
   ]
  },
  {
   "cell_type": "code",
   "execution_count": 39,
   "id": "1583cf62089c5d3f",
   "metadata": {
    "ExecuteTime": {
     "end_time": "2025-04-28T21:39:43.046569Z",
     "start_time": "2025-04-28T21:39:43.006813Z"
    }
   },
   "outputs": [
    {
     "name": "stdout",
     "output_type": "stream",
     "text": [
      "Selected features / 选取后的字段：\n",
      "   accident_severity  number_of_vehicles  number_of_casualties        date  \\\n",
      "0                  3                   1                     1  01/01/2023   \n",
      "1                  3                   3                     2  01/01/2023   \n",
      "2                  3                   2                     1  01/01/2023   \n",
      "3                  3                   2                     1  01/01/2023   \n",
      "4                  3                   2                     1  01/01/2023   \n",
      "\n",
      "    time  day_of_week  road_type  speed_limit  light_conditions  \\\n",
      "0  01:24            1          2           20                 4   \n",
      "1  02:25            1          6           30                 4   \n",
      "2  03:50            1          1           30                 4   \n",
      "3  02:13            1          6           30                 4   \n",
      "4  01:42            1          6           30                 4   \n",
      "\n",
      "   weather_conditions  road_surface_conditions  urban_or_rural_area  \n",
      "0                   8                        2                    1  \n",
      "1                   1                        1                    1  \n",
      "2                   1                        1                    1  \n",
      "3                   9                        1                    1  \n",
      "4                   1                        1                    1  \n"
     ]
    }
   ],
   "source": [
    "# Select important features for prediction\n",
    "# 选取与预测相关的重要字段\n",
    "selected_cols = [\n",
    "    'accident_severity', 'number_of_vehicles', 'number_of_casualties',\n",
    "    'date', 'time', 'day_of_week', 'road_type', 'speed_limit',\n",
    "    'light_conditions', 'weather_conditions', 'road_surface_conditions',\n",
    "    'urban_or_rural_area'\n",
    "]\n",
    "\n",
    "df_selected = df[selected_cols].copy()\n",
    "\n",
    "print(\"Selected features / 选取后的字段：\")\n",
    "print(df_selected.head())"
   ]
  },
  {
   "cell_type": "code",
   "execution_count": 40,
   "id": "f8aba62ee426a4b8",
   "metadata": {
    "ExecuteTime": {
     "end_time": "2025-04-28T21:39:49.295264Z",
     "start_time": "2025-04-28T21:39:49.272197Z"
    }
   },
   "outputs": [
    {
     "name": "stdout",
     "output_type": "stream",
     "text": [
      "Missing value handling completed / 缺失值处理完成。\n"
     ]
    }
   ],
   "source": [
    "# Handle missing values\n",
    "# 针对每一列进行缺失值处理\n",
    "for col in df_selected.columns:\n",
    "    if df_selected[col].isnull().sum() > 0:\n",
    "        if df_selected[col].dtype in ['float64', 'int64']:\n",
    "            df_selected[col].fillna(df_selected[col].median(), inplace=True)\n",
    "        else:\n",
    "            df_selected[col].fillna(df_selected[col].mode()[0], inplace=True)\n",
    "\n",
    "print(\"Missing value handling completed / 缺失值处理完成。\")"
   ]
  },
  {
   "cell_type": "code",
   "execution_count": 41,
   "id": "c29a85e3c36f7791",
   "metadata": {
    "ExecuteTime": {
     "end_time": "2025-04-28T21:39:52.393372Z",
     "start_time": "2025-04-28T21:39:52.114533Z"
    }
   },
   "outputs": [
    {
     "name": "stdout",
     "output_type": "stream",
     "text": [
      "Time-based features created / 基于时间的特征创建完成！\n"
     ]
    },
    {
     "data": {
      "text/html": [
       "<div>\n",
       "<style scoped>\n",
       "    .dataframe tbody tr th:only-of-type {\n",
       "        vertical-align: middle;\n",
       "    }\n",
       "\n",
       "    .dataframe tbody tr th {\n",
       "        vertical-align: top;\n",
       "    }\n",
       "\n",
       "    .dataframe thead th {\n",
       "        text-align: right;\n",
       "    }\n",
       "</style>\n",
       "<table border=\"1\" class=\"dataframe\">\n",
       "  <thead>\n",
       "    <tr style=\"text-align: right;\">\n",
       "      <th></th>\n",
       "      <th>accident_severity</th>\n",
       "      <th>number_of_vehicles</th>\n",
       "      <th>number_of_casualties</th>\n",
       "      <th>date</th>\n",
       "      <th>time</th>\n",
       "      <th>day_of_week</th>\n",
       "      <th>road_type</th>\n",
       "      <th>speed_limit</th>\n",
       "      <th>light_conditions</th>\n",
       "      <th>weather_conditions</th>\n",
       "      <th>road_surface_conditions</th>\n",
       "      <th>urban_or_rural_area</th>\n",
       "      <th>month</th>\n",
       "      <th>hour</th>\n",
       "      <th>season</th>\n",
       "      <th>is_rush_hour</th>\n",
       "      <th>is_night</th>\n",
       "    </tr>\n",
       "  </thead>\n",
       "  <tbody>\n",
       "    <tr>\n",
       "      <th>0</th>\n",
       "      <td>3</td>\n",
       "      <td>1</td>\n",
       "      <td>1</td>\n",
       "      <td>2023-01-01</td>\n",
       "      <td>01:24</td>\n",
       "      <td>1</td>\n",
       "      <td>2</td>\n",
       "      <td>20</td>\n",
       "      <td>4</td>\n",
       "      <td>8</td>\n",
       "      <td>2</td>\n",
       "      <td>1</td>\n",
       "      <td>1</td>\n",
       "      <td>1</td>\n",
       "      <td>winter</td>\n",
       "      <td>0</td>\n",
       "      <td>1</td>\n",
       "    </tr>\n",
       "    <tr>\n",
       "      <th>1</th>\n",
       "      <td>3</td>\n",
       "      <td>3</td>\n",
       "      <td>2</td>\n",
       "      <td>2023-01-01</td>\n",
       "      <td>02:25</td>\n",
       "      <td>1</td>\n",
       "      <td>6</td>\n",
       "      <td>30</td>\n",
       "      <td>4</td>\n",
       "      <td>1</td>\n",
       "      <td>1</td>\n",
       "      <td>1</td>\n",
       "      <td>1</td>\n",
       "      <td>2</td>\n",
       "      <td>winter</td>\n",
       "      <td>0</td>\n",
       "      <td>1</td>\n",
       "    </tr>\n",
       "    <tr>\n",
       "      <th>2</th>\n",
       "      <td>3</td>\n",
       "      <td>2</td>\n",
       "      <td>1</td>\n",
       "      <td>2023-01-01</td>\n",
       "      <td>03:50</td>\n",
       "      <td>1</td>\n",
       "      <td>1</td>\n",
       "      <td>30</td>\n",
       "      <td>4</td>\n",
       "      <td>1</td>\n",
       "      <td>1</td>\n",
       "      <td>1</td>\n",
       "      <td>1</td>\n",
       "      <td>3</td>\n",
       "      <td>winter</td>\n",
       "      <td>0</td>\n",
       "      <td>1</td>\n",
       "    </tr>\n",
       "    <tr>\n",
       "      <th>3</th>\n",
       "      <td>3</td>\n",
       "      <td>2</td>\n",
       "      <td>1</td>\n",
       "      <td>2023-01-01</td>\n",
       "      <td>02:13</td>\n",
       "      <td>1</td>\n",
       "      <td>6</td>\n",
       "      <td>30</td>\n",
       "      <td>4</td>\n",
       "      <td>9</td>\n",
       "      <td>1</td>\n",
       "      <td>1</td>\n",
       "      <td>1</td>\n",
       "      <td>2</td>\n",
       "      <td>winter</td>\n",
       "      <td>0</td>\n",
       "      <td>1</td>\n",
       "    </tr>\n",
       "    <tr>\n",
       "      <th>4</th>\n",
       "      <td>3</td>\n",
       "      <td>2</td>\n",
       "      <td>1</td>\n",
       "      <td>2023-01-01</td>\n",
       "      <td>01:42</td>\n",
       "      <td>1</td>\n",
       "      <td>6</td>\n",
       "      <td>30</td>\n",
       "      <td>4</td>\n",
       "      <td>1</td>\n",
       "      <td>1</td>\n",
       "      <td>1</td>\n",
       "      <td>1</td>\n",
       "      <td>1</td>\n",
       "      <td>winter</td>\n",
       "      <td>0</td>\n",
       "      <td>1</td>\n",
       "    </tr>\n",
       "  </tbody>\n",
       "</table>\n",
       "</div>"
      ],
      "text/plain": [
       "   accident_severity  number_of_vehicles  number_of_casualties       date  \\\n",
       "0                  3                   1                     1 2023-01-01   \n",
       "1                  3                   3                     2 2023-01-01   \n",
       "2                  3                   2                     1 2023-01-01   \n",
       "3                  3                   2                     1 2023-01-01   \n",
       "4                  3                   2                     1 2023-01-01   \n",
       "\n",
       "    time  day_of_week  road_type  speed_limit  light_conditions  \\\n",
       "0  01:24            1          2           20                 4   \n",
       "1  02:25            1          6           30                 4   \n",
       "2  03:50            1          1           30                 4   \n",
       "3  02:13            1          6           30                 4   \n",
       "4  01:42            1          6           30                 4   \n",
       "\n",
       "   weather_conditions  road_surface_conditions  urban_or_rural_area  month  \\\n",
       "0                   8                        2                    1      1   \n",
       "1                   1                        1                    1      1   \n",
       "2                   1                        1                    1      1   \n",
       "3                   9                        1                    1      1   \n",
       "4                   1                        1                    1      1   \n",
       "\n",
       "   hour  season  is_rush_hour  is_night  \n",
       "0     1  winter             0         1  \n",
       "1     2  winter             0         1  \n",
       "2     3  winter             0         1  \n",
       "3     2  winter             0         1  \n",
       "4     1  winter             0         1  "
      ]
     },
     "execution_count": 41,
     "metadata": {},
     "output_type": "execute_result"
    }
   ],
   "source": [
    "# Process date and time features\n",
    "# 处理日期和时间特征\n",
    "df_selected['date'] = pd.to_datetime(df_selected['date'], format='%d/%m/%Y', errors='coerce')\n",
    "df_selected['month'] = df_selected['date'].dt.month\n",
    "df_selected['hour'] = pd.to_datetime(df_selected['time'], format='%H:%M', errors='coerce').dt.hour\n",
    "\n",
    "# Create time-based features\n",
    "# 创建基于时间的特征\n",
    "df_selected['season'] = df_selected['month'].apply(lambda x: \n",
    "    'winter' if x in [12, 1, 2] else\n",
    "    'spring' if x in [3, 4, 5] else\n",
    "    'summer' if x in [6, 7, 8] else\n",
    "    'autumn'\n",
    ")\n",
    "\n",
    "# Create rush hour indicator\n",
    "# 创建高峰时段指标\n",
    "df_selected['is_rush_hour'] = df_selected['hour'].apply(lambda x: \n",
    "    1 if (x >= 7 and x <= 9) or (x >= 16 and x <= 18) else 0\n",
    ")\n",
    "\n",
    "# Create day/night indicator\n",
    "# 创建白天/夜晚指标\n",
    "df_selected['is_night'] = df_selected['hour'].apply(lambda x: \n",
    "    1 if x >= 20 or x <= 5 else 0\n",
    ")\n",
    "\n",
    "print(\"Time-based features created / 基于时间的特征创建完成！\")\n",
    "\n",
    "df_selected.head()"
   ]
  },
  {
   "cell_type": "code",
   "execution_count": 42,
   "id": "c5e5996c",
   "metadata": {},
   "outputs": [
    {
     "name": "stdout",
     "output_type": "stream",
     "text": [
      "Interaction features created / 交互特征创建完成！\n"
     ]
    }
   ],
   "source": [
    "# Create interaction features\n",
    "# 创建交互特征\n",
    "df_selected['vehicles_casualties_ratio'] = df_selected['number_of_vehicles'] / df_selected['number_of_casualties']\n",
    "df_selected['vehicles_casualties_ratio'] = df_selected['vehicles_casualties_ratio'].replace([np.inf, -np.inf], np.nan)\n",
    "df_selected['vehicles_casualties_ratio'] = df_selected['vehicles_casualties_ratio'].fillna(0)\n",
    "\n",
    "# Create road condition combinations\n",
    "# 创建道路条件组合\n",
    "df_selected['road_weather_condition'] = df_selected['road_surface_conditions'].astype(str) + '_' + df_selected['weather_conditions'].astype(str)\n",
    "df_selected['road_light_condition'] = df_selected['road_surface_conditions'].astype(str) + '_' + df_selected['light_conditions'].astype(str)\n",
    "\n",
    "# Create speed limit categories\n",
    "# 创建速度限制类别\n",
    "df_selected['speed_category'] = pd.cut(df_selected['speed_limit'], \n",
    "    bins=[0, 30, 50, 70, 100],\n",
    "    labels=['low', 'medium', 'high', 'very_high']\n",
    ")\n",
    "\n",
    "# Create urban/rural with road type combination\n",
    "# 创建城乡与道路类型组合\n",
    "df_selected['area_road_type'] = df_selected['urban_or_rural_area'].astype(str) + '_' + df_selected['road_type'].astype(str)\n",
    "\n",
    "print(\"Interaction features created / 交互特征创建完成！\")"
   ]
  },
  {
   "cell_type": "code",
   "execution_count": 43,
   "id": "288ec25ff2d367b0",
   "metadata": {
    "ExecuteTime": {
     "end_time": "2025-04-28T21:39:54.969488Z",
     "start_time": "2025-04-28T21:39:54.926910Z"
    }
   },
   "outputs": [
    {
     "name": "stdout",
     "output_type": "stream",
     "text": [
      "Categorical feature encoding completed / 类别特征编码完成！\n"
     ]
    }
   ],
   "source": [
    "# Encode categorical features\n",
    "# 对类别特征进行编码\n",
    "categorical_features = [\n",
    "    'road_type', 'light_conditions', 'weather_conditions', \n",
    "    'road_surface_conditions', 'urban_or_rural_area',\n",
    "    'season', 'road_weather_condition', 'road_light_condition',\n",
    "    'speed_category', 'area_road_type'\n",
    "]\n",
    "encoder = LabelEncoder()\n",
    "for col in categorical_features:\n",
    "    df_selected[col] = encoder.fit_transform(df_selected[col])\n",
    "\n",
    "print(\"Categorical feature encoding completed / 类别特征编码完成！\")"
   ]
  },
  {
   "cell_type": "code",
   "execution_count": 44,
   "id": "68b458b4",
   "metadata": {},
   "outputs": [
    {
     "name": "stdout",
     "output_type": "stream",
     "text": [
      "0         1\n",
      "1         3\n",
      "2         0\n",
      "3         3\n",
      "4         3\n",
      "         ..\n",
      "104253    3\n",
      "104254    3\n",
      "104255    3\n",
      "104256    3\n",
      "104257    3\n",
      "Name: road_type, Length: 104258, dtype: int64\n"
     ]
    }
   ],
   "source": [
    "print(df_selected['road_type'])"
   ]
  },
  {
   "cell_type": "code",
   "execution_count": 45,
   "id": "7847fc52ccf320e7",
   "metadata": {
    "ExecuteTime": {
     "end_time": "2025-04-28T21:40:11.132451Z",
     "start_time": "2025-04-28T21:40:07.064752Z"
    }
   },
   "outputs": [],
   "source": [
    "# Import modeling libraries\n",
    "# 导入建模相关库\n",
    "from sklearn.model_selection import train_test_split\n",
    "from sklearn.tree import DecisionTreeClassifier\n",
    "from sklearn.metrics import classification_report, confusion_matrix, accuracy_score\n",
    "import matplotlib.pyplot as plt\n",
    "import seaborn as sns"
   ]
  },
  {
   "cell_type": "code",
   "execution_count": 46,
   "id": "68445b1cae4d0656",
   "metadata": {
    "ExecuteTime": {
     "end_time": "2025-04-28T21:40:28.644397Z",
     "start_time": "2025-04-28T21:40:28.633258Z"
    }
   },
   "outputs": [],
   "source": [
    "# Split features and target\n",
    "# 特征和目标分开\n",
    "X = df_selected.drop('accident_severity', axis=1)  # Input features / 输入特征\n",
    "y = df_selected['accident_severity']               # Target variable / 目标变量"
   ]
  },
  {
   "cell_type": "code",
   "execution_count": 47,
   "id": "897d93cc6cfedb05",
   "metadata": {
    "ExecuteTime": {
     "end_time": "2025-04-28T21:40:40.141733Z",
     "start_time": "2025-04-28T21:40:40.107695Z"
    }
   },
   "outputs": [
    {
     "name": "stdout",
     "output_type": "stream",
     "text": [
      "Training set size / 训练集大小： (72980, 21)\n",
      "Test set size / 测试集大小： (31278, 21)\n"
     ]
    }
   ],
   "source": [
    "# Split dataset (70% training, 30% testing)\n",
    "# 切分数据集（70%训练，30%测试）\n",
    "X_train, X_test, y_train, y_test = train_test_split(X, y, test_size=0.3, random_state=42)\n",
    "\n",
    "print(\"Training set size / 训练集大小：\", X_train.shape)\n",
    "print(\"Test set size / 测试集大小：\", X_test.shape)"
   ]
  },
  {
   "cell_type": "code",
   "execution_count": 48,
   "id": "7c39f37a29205e1b",
   "metadata": {
    "ExecuteTime": {
     "end_time": "2025-04-28T21:41:00.525972Z",
     "start_time": "2025-04-28T21:40:59.992540Z"
    }
   },
   "outputs": [
    {
     "ename": "TypeError",
     "evalue": "float() argument must be a string or a real number, not 'Timestamp'",
     "output_type": "error",
     "traceback": [
      "\u001b[31m---------------------------------------------------------------------------\u001b[39m",
      "\u001b[31mTypeError\u001b[39m                                 Traceback (most recent call last)",
      "\u001b[32m/var/folders/r3/4mj6cd_52b9_myk57k70gjxr0000gq/T/ipykernel_90904/2474297380.py\u001b[39m in \u001b[36m?\u001b[39m\u001b[34m()\u001b[39m\n\u001b[32m      1\u001b[39m \u001b[38;5;66;03m# Initialize and train decision tree\u001b[39;00m\n\u001b[32m      2\u001b[39m \u001b[38;5;66;03m# 初始化并训练决策树\u001b[39;00m\n\u001b[32m      3\u001b[39m model = DecisionTreeClassifier(random_state=\u001b[32m42\u001b[39m)\n\u001b[32m----> \u001b[39m\u001b[32m4\u001b[39m model.fit(X_train, y_train)\n\u001b[32m      5\u001b[39m \n\u001b[32m      6\u001b[39m print(\u001b[33m\"Decision Tree model training completed / 决策树模型训练完成！\"\u001b[39m)\n",
      "\u001b[32m~/Documents/programming/University/Data Science with ML/comp4030-accident-analysis/venv/lib/python3.13/site-packages/sklearn/base.py\u001b[39m in \u001b[36m?\u001b[39m\u001b[34m(estimator, *args, **kwargs)\u001b[39m\n\u001b[32m   1385\u001b[39m                 skip_parameter_validation=(\n\u001b[32m   1386\u001b[39m                     prefer_skip_nested_validation \u001b[38;5;28;01mor\u001b[39;00m global_skip_validation\n\u001b[32m   1387\u001b[39m                 )\n\u001b[32m   1388\u001b[39m             ):\n\u001b[32m-> \u001b[39m\u001b[32m1389\u001b[39m                 \u001b[38;5;28;01mreturn\u001b[39;00m fit_method(estimator, *args, **kwargs)\n",
      "\u001b[32m~/Documents/programming/University/Data Science with ML/comp4030-accident-analysis/venv/lib/python3.13/site-packages/sklearn/tree/_classes.py\u001b[39m in \u001b[36m?\u001b[39m\u001b[34m(self, X, y, sample_weight, check_input)\u001b[39m\n\u001b[32m   1020\u001b[39m         self : DecisionTreeClassifier\n\u001b[32m   1021\u001b[39m             Fitted estimator.\n\u001b[32m   1022\u001b[39m         \"\"\"\n\u001b[32m   1023\u001b[39m \n\u001b[32m-> \u001b[39m\u001b[32m1024\u001b[39m         super()._fit(\n\u001b[32m   1025\u001b[39m             X,\n\u001b[32m   1026\u001b[39m             y,\n\u001b[32m   1027\u001b[39m             sample_weight=sample_weight,\n",
      "\u001b[32m~/Documents/programming/University/Data Science with ML/comp4030-accident-analysis/venv/lib/python3.13/site-packages/sklearn/tree/_classes.py\u001b[39m in \u001b[36m?\u001b[39m\u001b[34m(self, X, y, sample_weight, check_input, missing_values_in_feature_mask)\u001b[39m\n\u001b[32m    248\u001b[39m             check_X_params = dict(\n\u001b[32m    249\u001b[39m                 dtype=DTYPE, accept_sparse=\u001b[33m\"csc\"\u001b[39m, ensure_all_finite=\u001b[38;5;28;01mFalse\u001b[39;00m\n\u001b[32m    250\u001b[39m             )\n\u001b[32m    251\u001b[39m             check_y_params = dict(ensure_2d=\u001b[38;5;28;01mFalse\u001b[39;00m, dtype=\u001b[38;5;28;01mNone\u001b[39;00m)\n\u001b[32m--> \u001b[39m\u001b[32m252\u001b[39m             X, y = validate_data(\n\u001b[32m    253\u001b[39m                 self, X, y, validate_separately=(check_X_params, check_y_params)\n\u001b[32m    254\u001b[39m             )\n\u001b[32m    255\u001b[39m \n",
      "\u001b[32m~/Documents/programming/University/Data Science with ML/comp4030-accident-analysis/venv/lib/python3.13/site-packages/sklearn/utils/validation.py\u001b[39m in \u001b[36m?\u001b[39m\u001b[34m(_estimator, X, y, reset, validate_separately, skip_check_array, **check_params)\u001b[39m\n\u001b[32m   2952\u001b[39m             \u001b[38;5;66;03m# :(\u001b[39;00m\n\u001b[32m   2953\u001b[39m             check_X_params, check_y_params = validate_separately\n\u001b[32m   2954\u001b[39m             \u001b[38;5;28;01mif\u001b[39;00m \u001b[33m\"estimator\"\u001b[39m \u001b[38;5;28;01mnot\u001b[39;00m \u001b[38;5;28;01min\u001b[39;00m check_X_params:\n\u001b[32m   2955\u001b[39m                 check_X_params = {**default_check_params, **check_X_params}\n\u001b[32m-> \u001b[39m\u001b[32m2956\u001b[39m             X = check_array(X, input_name=\u001b[33m\"X\"\u001b[39m, **check_X_params)\n\u001b[32m   2957\u001b[39m             \u001b[38;5;28;01mif\u001b[39;00m \u001b[33m\"estimator\"\u001b[39m \u001b[38;5;28;01mnot\u001b[39;00m \u001b[38;5;28;01min\u001b[39;00m check_y_params:\n\u001b[32m   2958\u001b[39m                 check_y_params = {**default_check_params, **check_y_params}\n\u001b[32m   2959\u001b[39m             y = check_array(y, input_name=\u001b[33m\"y\"\u001b[39m, **check_y_params)\n",
      "\u001b[32m~/Documents/programming/University/Data Science with ML/comp4030-accident-analysis/venv/lib/python3.13/site-packages/sklearn/utils/validation.py\u001b[39m in \u001b[36m?\u001b[39m\u001b[34m(array, accept_sparse, accept_large_sparse, dtype, order, copy, force_writeable, force_all_finite, ensure_all_finite, ensure_non_negative, ensure_2d, allow_nd, ensure_min_samples, ensure_min_features, estimator, input_name)\u001b[39m\n\u001b[32m   1052\u001b[39m                         )\n\u001b[32m   1053\u001b[39m                     array = xp.astype(array, dtype, copy=\u001b[38;5;28;01mFalse\u001b[39;00m)\n\u001b[32m   1054\u001b[39m                 \u001b[38;5;28;01melse\u001b[39;00m:\n\u001b[32m   1055\u001b[39m                     array = _asarray_with_order(array, order=order, dtype=dtype, xp=xp)\n\u001b[32m-> \u001b[39m\u001b[32m1056\u001b[39m             \u001b[38;5;28;01mexcept\u001b[39;00m ComplexWarning \u001b[38;5;28;01mas\u001b[39;00m complex_warning:\n\u001b[32m   1057\u001b[39m                 raise ValueError(\n\u001b[32m   1058\u001b[39m                     \u001b[33m\"Complex data not supported\\n{}\\n\"\u001b[39m.format(array)\n\u001b[32m   1059\u001b[39m                 ) \u001b[38;5;28;01mfrom\u001b[39;00m complex_warning\n",
      "\u001b[32m~/Documents/programming/University/Data Science with ML/comp4030-accident-analysis/venv/lib/python3.13/site-packages/sklearn/utils/_array_api.py\u001b[39m in \u001b[36m?\u001b[39m\u001b[34m(array, dtype, order, copy, xp, device)\u001b[39m\n\u001b[32m    835\u001b[39m         \u001b[38;5;66;03m# Use NumPy API to support order\u001b[39;00m\n\u001b[32m    836\u001b[39m         \u001b[38;5;28;01mif\u001b[39;00m copy \u001b[38;5;28;01mis\u001b[39;00m \u001b[38;5;28;01mTrue\u001b[39;00m:\n\u001b[32m    837\u001b[39m             array = numpy.array(array, order=order, dtype=dtype)\n\u001b[32m    838\u001b[39m         \u001b[38;5;28;01melse\u001b[39;00m:\n\u001b[32m--> \u001b[39m\u001b[32m839\u001b[39m             array = numpy.asarray(array, order=order, dtype=dtype)\n\u001b[32m    840\u001b[39m \n\u001b[32m    841\u001b[39m         \u001b[38;5;66;03m# At this point array is a NumPy ndarray. We convert it to an array\u001b[39;00m\n\u001b[32m    842\u001b[39m         \u001b[38;5;66;03m# container that is consistent with the input's namespace.\u001b[39;00m\n",
      "\u001b[32m~/Documents/programming/University/Data Science with ML/comp4030-accident-analysis/venv/lib/python3.13/site-packages/pandas/core/generic.py\u001b[39m in \u001b[36m?\u001b[39m\u001b[34m(self, dtype, copy)\u001b[39m\n\u001b[32m   2149\u001b[39m     def __array__(\n\u001b[32m   2150\u001b[39m         self, dtype: npt.DTypeLike | \u001b[38;5;28;01mNone\u001b[39;00m = \u001b[38;5;28;01mNone\u001b[39;00m, copy: bool_t | \u001b[38;5;28;01mNone\u001b[39;00m = \u001b[38;5;28;01mNone\u001b[39;00m\n\u001b[32m   2151\u001b[39m     ) -> np.ndarray:\n\u001b[32m   2152\u001b[39m         values = self._values\n\u001b[32m-> \u001b[39m\u001b[32m2153\u001b[39m         arr = np.asarray(values, dtype=dtype)\n\u001b[32m   2154\u001b[39m         if (\n\u001b[32m   2155\u001b[39m             astype_is_view(values.dtype, arr.dtype)\n\u001b[32m   2156\u001b[39m             \u001b[38;5;28;01mand\u001b[39;00m using_copy_on_write()\n",
      "\u001b[31mTypeError\u001b[39m: float() argument must be a string or a real number, not 'Timestamp'"
     ]
    }
   ],
   "source": [
    "# Initialize and train decision tree\n",
    "# 初始化并训练决策树\n",
    "model = DecisionTreeClassifier(random_state=42)\n",
    "model.fit(X_train, y_train)\n",
    "\n",
    "print(\"Decision Tree model training completed / 决策树模型训练完成！\")"
   ]
  },
  {
   "cell_type": "code",
   "execution_count": 14,
   "id": "c03dac247b392a10",
   "metadata": {
    "ExecuteTime": {
     "end_time": "2025-04-28T21:41:12.346252Z",
     "start_time": "2025-04-28T21:41:12.257662Z"
    }
   },
   "outputs": [
    {
     "name": "stdout",
     "output_type": "stream",
     "text": [
      "Model Accuracy / 模型准确率: 0.6422405524649913\n",
      "\n",
      "Classification Report / 分类详细报告:\n",
      "               precision    recall  f1-score   support\n",
      "\n",
      "           1       0.04      0.05      0.04       454\n",
      "           2       0.27      0.28      0.28      7198\n",
      "           3       0.77      0.76      0.77     23626\n",
      "\n",
      "    accuracy                           0.64     31278\n",
      "   macro avg       0.36      0.36      0.36     31278\n",
      "weighted avg       0.65      0.64      0.65     31278\n",
      "\n"
     ]
    }
   ],
   "source": [
    "# Make predictions on test set\n",
    "# 在测试集上进行预测\n",
    "y_pred = model.predict(X_test)\n",
    "\n",
    "# Evaluate model\n",
    "# 评估指标输出\n",
    "print(\"Model Accuracy / 模型准确率:\", accuracy_score(y_test, y_pred))\n",
    "print(\"\\nClassification Report / 分类详细报告:\\n\", classification_report(y_test, y_pred))"
   ]
  },
  {
   "cell_type": "code",
   "execution_count": 15,
   "id": "edf3fd06847a7106",
   "metadata": {
    "ExecuteTime": {
     "end_time": "2025-04-28T21:42:36.526174Z",
     "start_time": "2025-04-28T21:42:35.312799Z"
    }
   },
   "outputs": [
    {
     "name": "stderr",
     "output_type": "stream",
     "text": [
      "/Users/ivedha/Documents/programming/University/Data Science with ML/comp4030-accident-analysis/venv/lib/python3.13/site-packages/IPython/core/pylabtools.py:170: UserWarning: Glyph 23454 (\\N{CJK UNIFIED IDEOGRAPH-5B9E}) missing from font(s) DejaVu Sans.\n",
      "  fig.canvas.print_figure(bytes_io, **kw)\n",
      "/Users/ivedha/Documents/programming/University/Data Science with ML/comp4030-accident-analysis/venv/lib/python3.13/site-packages/IPython/core/pylabtools.py:170: UserWarning: Glyph 38469 (\\N{CJK UNIFIED IDEOGRAPH-9645}) missing from font(s) DejaVu Sans.\n",
      "  fig.canvas.print_figure(bytes_io, **kw)\n",
      "/Users/ivedha/Documents/programming/University/Data Science with ML/comp4030-accident-analysis/venv/lib/python3.13/site-packages/IPython/core/pylabtools.py:170: UserWarning: Glyph 20005 (\\N{CJK UNIFIED IDEOGRAPH-4E25}) missing from font(s) DejaVu Sans.\n",
      "  fig.canvas.print_figure(bytes_io, **kw)\n",
      "/Users/ivedha/Documents/programming/University/Data Science with ML/comp4030-accident-analysis/venv/lib/python3.13/site-packages/IPython/core/pylabtools.py:170: UserWarning: Glyph 37325 (\\N{CJK UNIFIED IDEOGRAPH-91CD}) missing from font(s) DejaVu Sans.\n",
      "  fig.canvas.print_figure(bytes_io, **kw)\n",
      "/Users/ivedha/Documents/programming/University/Data Science with ML/comp4030-accident-analysis/venv/lib/python3.13/site-packages/IPython/core/pylabtools.py:170: UserWarning: Glyph 31243 (\\N{CJK UNIFIED IDEOGRAPH-7A0B}) missing from font(s) DejaVu Sans.\n",
      "  fig.canvas.print_figure(bytes_io, **kw)\n",
      "/Users/ivedha/Documents/programming/University/Data Science with ML/comp4030-accident-analysis/venv/lib/python3.13/site-packages/IPython/core/pylabtools.py:170: UserWarning: Glyph 24230 (\\N{CJK UNIFIED IDEOGRAPH-5EA6}) missing from font(s) DejaVu Sans.\n",
      "  fig.canvas.print_figure(bytes_io, **kw)\n",
      "/Users/ivedha/Documents/programming/University/Data Science with ML/comp4030-accident-analysis/venv/lib/python3.13/site-packages/IPython/core/pylabtools.py:170: UserWarning: Glyph 20915 (\\N{CJK UNIFIED IDEOGRAPH-51B3}) missing from font(s) DejaVu Sans.\n",
      "  fig.canvas.print_figure(bytes_io, **kw)\n",
      "/Users/ivedha/Documents/programming/University/Data Science with ML/comp4030-accident-analysis/venv/lib/python3.13/site-packages/IPython/core/pylabtools.py:170: UserWarning: Glyph 31574 (\\N{CJK UNIFIED IDEOGRAPH-7B56}) missing from font(s) DejaVu Sans.\n",
      "  fig.canvas.print_figure(bytes_io, **kw)\n",
      "/Users/ivedha/Documents/programming/University/Data Science with ML/comp4030-accident-analysis/venv/lib/python3.13/site-packages/IPython/core/pylabtools.py:170: UserWarning: Glyph 26641 (\\N{CJK UNIFIED IDEOGRAPH-6811}) missing from font(s) DejaVu Sans.\n",
      "  fig.canvas.print_figure(bytes_io, **kw)\n",
      "/Users/ivedha/Documents/programming/University/Data Science with ML/comp4030-accident-analysis/venv/lib/python3.13/site-packages/IPython/core/pylabtools.py:170: UserWarning: Glyph 28151 (\\N{CJK UNIFIED IDEOGRAPH-6DF7}) missing from font(s) DejaVu Sans.\n",
      "  fig.canvas.print_figure(bytes_io, **kw)\n",
      "/Users/ivedha/Documents/programming/University/Data Science with ML/comp4030-accident-analysis/venv/lib/python3.13/site-packages/IPython/core/pylabtools.py:170: UserWarning: Glyph 28102 (\\N{CJK UNIFIED IDEOGRAPH-6DC6}) missing from font(s) DejaVu Sans.\n",
      "  fig.canvas.print_figure(bytes_io, **kw)\n",
      "/Users/ivedha/Documents/programming/University/Data Science with ML/comp4030-accident-analysis/venv/lib/python3.13/site-packages/IPython/core/pylabtools.py:170: UserWarning: Glyph 30697 (\\N{CJK UNIFIED IDEOGRAPH-77E9}) missing from font(s) DejaVu Sans.\n",
      "  fig.canvas.print_figure(bytes_io, **kw)\n",
      "/Users/ivedha/Documents/programming/University/Data Science with ML/comp4030-accident-analysis/venv/lib/python3.13/site-packages/IPython/core/pylabtools.py:170: UserWarning: Glyph 38453 (\\N{CJK UNIFIED IDEOGRAPH-9635}) missing from font(s) DejaVu Sans.\n",
      "  fig.canvas.print_figure(bytes_io, **kw)\n",
      "/Users/ivedha/Documents/programming/University/Data Science with ML/comp4030-accident-analysis/venv/lib/python3.13/site-packages/IPython/core/pylabtools.py:170: UserWarning: Glyph 39044 (\\N{CJK UNIFIED IDEOGRAPH-9884}) missing from font(s) DejaVu Sans.\n",
      "  fig.canvas.print_figure(bytes_io, **kw)\n",
      "/Users/ivedha/Documents/programming/University/Data Science with ML/comp4030-accident-analysis/venv/lib/python3.13/site-packages/IPython/core/pylabtools.py:170: UserWarning: Glyph 27979 (\\N{CJK UNIFIED IDEOGRAPH-6D4B}) missing from font(s) DejaVu Sans.\n",
      "  fig.canvas.print_figure(bytes_io, **kw)\n"
     ]
    },
    {
     "data": {
      "image/png": "[encoded data removed]",
      "text/plain": [
       "<Figure size 600x500 with 2 Axes>"
      ]
     },
     "metadata": {},
     "output_type": "display_data"
    }
   ],
   "source": [
    "# Plot confusion matrix\n",
    "# 绘制混淆矩阵\n",
    "cm = confusion_matrix(y_test, y_pred)\n",
    "\n",
    "plt.figure(figsize=(6,5))\n",
    "sns.heatmap(cm, annot=True, fmt='d', cmap='Blues', xticklabels=[1,2,3], yticklabels=[1,2,3])\n",
    "plt.xlabel('Predicted Severity / 预测严重程度')\n",
    "plt.ylabel('Actual Severity / 实际严重程度')\n",
    "plt.title('Confusion Matrix - Decision Tree / 决策树混淆矩阵')\n",
    "plt.show()"
   ]
  },
  {
   "cell_type": "code",
   "execution_count": 16,
   "id": "86c6ba3685c840b2",
   "metadata": {
    "ExecuteTime": {
     "end_time": "2025-04-28T21:44:01.218073Z",
     "start_time": "2025-04-28T21:44:00.643421Z"
    }
   },
   "outputs": [],
   "source": [
    "# Import Random Forest\n",
    "# 导入随机森林\n",
    "from sklearn.ensemble import RandomForestClassifier"
   ]
  },
  {
   "cell_type": "code",
   "execution_count": null,
   "id": "379fd84463895516",
   "metadata": {
    "ExecuteTime": {
     "end_time": "2025-04-28T21:44:22.304323Z",
     "start_time": "2025-04-28T21:44:13.524909Z"
    }
   },
   "outputs": [],
   "source": [
    "# Initialize Random Forest\n",
    "# 初始化随机森林\n",
    "rf_model = RandomForestClassifier(random_state=42)\n",
    "rf_model.fit(X_train, y_train)\n",
    "\n",
    "print(\"Random Forest model training completed / 随机森林模型训练完成！\")"
   ]
  },
  {
   "cell_type": "code",
   "execution_count": 19,
   "id": "8ebea3dd1d021d6e",
   "metadata": {
    "ExecuteTime": {
     "end_time": "2025-04-28T21:44:38.827350Z",
     "start_time": "2025-04-28T21:44:37.239259Z"
    }
   },
   "outputs": [
    {
     "name": "stdout",
     "output_type": "stream",
     "text": [
      "Random Forest Model Accuracy / 随机森林模型准确率: 0.7163501502653622\n",
      "\n",
      "Classification Report / 分类详细报告:\n",
      "               precision    recall  f1-score   support\n",
      "\n",
      "           1       0.05      0.01      0.02       454\n",
      "           2       0.31      0.14      0.19      7198\n",
      "           3       0.77      0.91      0.83     23626\n",
      "\n",
      "    accuracy                           0.72     31278\n",
      "   macro avg       0.38      0.35      0.35     31278\n",
      "weighted avg       0.65      0.72      0.67     31278\n",
      "\n"
     ]
    }
   ],
   "source": [
    "# Make predictions\n",
    "# 在测试集上进行预测\n",
    "y_pred_rf = rf_model.predict(X_test)\n",
    "\n",
    "# Evaluate model\n",
    "# 评估指标输出\n",
    "print(\"Random Forest Model Accuracy / 随机森林模型准确率:\", accuracy_score(y_test, y_pred_rf))\n",
    "print(\"\\nClassification Report / 分类详细报告:\\n\", classification_report(y_test, y_pred_rf))"
   ]
  },
  {
   "cell_type": "code",
   "execution_count": 18,
   "id": "e83ea7f6127f0ba7",
   "metadata": {
    "ExecuteTime": {
     "end_time": "2025-04-28T21:45:02.048472Z",
     "start_time": "2025-04-28T21:45:01.803418Z"
    }
   },
   "outputs": [
    {
     "ename": "NameError",
     "evalue": "name 'y_pred_rf' is not defined",
     "output_type": "error",
     "traceback": [
      "\u001b[31m---------------------------------------------------------------------------\u001b[39m",
      "\u001b[31mNameError\u001b[39m                                 Traceback (most recent call last)",
      "\u001b[36mCell\u001b[39m\u001b[36m \u001b[39m\u001b[32mIn[18]\u001b[39m\u001b[32m, line 3\u001b[39m\n\u001b[32m      1\u001b[39m \u001b[38;5;66;03m# Plot confusion matrix\u001b[39;00m\n\u001b[32m      2\u001b[39m \u001b[38;5;66;03m# 绘制混淆矩阵\u001b[39;00m\n\u001b[32m----> \u001b[39m\u001b[32m3\u001b[39m cm_rf = confusion_matrix(y_test, \u001b[43my_pred_rf\u001b[49m)\n\u001b[32m      5\u001b[39m plt.figure(figsize=(\u001b[32m6\u001b[39m,\u001b[32m5\u001b[39m))\n\u001b[32m      6\u001b[39m sns.heatmap(cm_rf, annot=\u001b[38;5;28;01mTrue\u001b[39;00m, fmt=\u001b[33m'\u001b[39m\u001b[33md\u001b[39m\u001b[33m'\u001b[39m, cmap=\u001b[33m'\u001b[39m\u001b[33mGreens\u001b[39m\u001b[33m'\u001b[39m, xticklabels=[\u001b[32m1\u001b[39m,\u001b[32m2\u001b[39m,\u001b[32m3\u001b[39m], yticklabels=[\u001b[32m1\u001b[39m,\u001b[32m2\u001b[39m,\u001b[32m3\u001b[39m])\n",
      "\u001b[31mNameError\u001b[39m: name 'y_pred_rf' is not defined"
     ]
    }
   ],
   "source": [
    "# Plot confusion matrix\n",
    "# 绘制混淆矩阵\n",
    "cm_rf = confusion_matrix(y_test, y_pred_rf)\n",
    "\n",
    "plt.figure(figsize=(6,5))\n",
    "sns.heatmap(cm_rf, annot=True, fmt='d', cmap='Greens', xticklabels=[1,2,3], yticklabels=[1,2,3])\n",
    "plt.xlabel('Predicted Severity / 预测严重程度')\n",
    "plt.ylabel('Actual Severity / 实际严重程度')\n",
    "plt.title('Confusion Matrix - Random Forest / 随机森林混淆矩阵')\n",
    "plt.show() "
   ]
  }
 ],
 "metadata": {
  "kernelspec": {
   "display_name": "venv",
   "language": "python",
   "name": "python3"
  },
  "language_info": {
   "codemirror_mode": {
    "name": "ipython",
    "version": 3
   },
   "file_extension": ".py",
   "mimetype": "text/x-python",
   "name": "python",
   "nbconvert_exporter": "python",
   "pygments_lexer": "ipython3",
   "version": "3.13.2"
  }
 },
 "nbformat": 4,
 "nbformat_minor": 5
}
